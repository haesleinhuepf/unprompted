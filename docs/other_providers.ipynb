{
 "cells": [
  {
   "cell_type": "markdown",
   "id": "0aefaefe-80ef-4345-a0aa-7af051b39cc7",
   "metadata": {},
   "source": [
    "# Using other LLM service providers\n",
    "\n",
    "To use a different model or service provider, you need to configure environment variables. Below are some examples for how to use [ollama](https://ollama.com/) or [github models marketplace](https://github.com/marketplace?type=models)."
   ]
  },
  {
   "cell_type": "code",
   "execution_count": 1,
   "id": "ef3cbf63-1b44-41fc-8956-ec219c57d5b0",
   "metadata": {},
   "outputs": [],
   "source": [
    "import os\n",
    "\n",
    "# ollama\n",
    "os.environ[\"UNPROMPTED_MODEL\"] = \"llama3.2-vision\"\n",
    "os.environ[\"UNPROMPTED_LLM_URL\"] = \"http://localhost:11434/v1\"\n",
    "os.environ[\"UNPROMPTED_API_KEY\"] = \"dummy\"\n",
    "\n",
    "# openai\n",
    "#os.environ[\"UNPROMPTED_MODEL\"] = \"gpt-4.1-nano\"\n",
    "#os.environ[\"UNPROMPTED_LLM_URL\"] = \"\"\n",
    "#os.environ[\"UNPROMPTED_API_KEY\"] = \"\"\n",
    "\n",
    "# github models\n",
    "#os.environ[\"UNPROMPTED_MODEL\"] = \"openai/gpt-4.1-nano\"\n",
    "#os.environ[\"UNPROMPTED_LLM_URL\"] = \"https://models.github.ai/inference\"\n",
    "#os.environ[\"UNPROMPTED_API_KEY\"] = os.environ[\"GH_MODELS_API_KEY\"]\n"
   ]
  },
  {
   "cell_type": "code",
   "execution_count": 2,
   "id": "8533a14e-5784-4eca-b314-4fcc222606d6",
   "metadata": {},
   "outputs": [
    {
     "data": {
      "text/html": [
       "<small>👋 Hi, this is <a href=\"https://github.com/haesleinhuepf/unprompted\" target=\"_blank\"><i>umprompted</i></a> 0.1.0 using llama3.2-vision under the hood. \n",
       "                         Following code cells code and related output will be interpreted by AI to provide feedback and suggest improvements. \n",
       "                         If you want to keep code and/or its output private, do not use this tool or configure it to use a local LLM. Check the documentation for details.\n",
       "                         Also <i>umprompted</i> does mistakes. Treat its suggestions carefully.</small>"
      ],
      "text/plain": [
       "<IPython.core.display.HTML object>"
      ]
     },
     "metadata": {},
     "output_type": "display_data"
    }
   ],
   "source": [
    "import unprompted"
   ]
  },
  {
   "cell_type": "markdown",
   "id": "9bf08250-deaa-413c-9a56-24fa046ad804",
   "metadata": {},
   "source": [
    "We start with a simple test and see if the model can spot that a variable contains wrong content."
   ]
  },
  {
   "cell_type": "code",
   "execution_count": 3,
   "id": "0c40186e-1e37-48e8-993d-4c63cb5738d2",
   "metadata": {},
   "outputs": [
    {
     "data": {
      "text/markdown": [
       "<details><summary>🤓 unprompted feedback: The comment should be updated to reflect the actual assignment, e.g. \"Assign 4 to five\".</summary>\n",
       "<ul>\n",
       "<li>The code assigns the value 4 to the variable <code>five</code>.</li>\n",
       "<li>There is no output, as the code only assigns a value to a variable and does not print or return anything.</li>\n",
       "<li>The code is correct, but it is not doing what its comment suggests. The comment says \"Assign 5 to five\", but the code actually assigns 4 to five.</li>\n",
       "<li>ACTION REQUIRED: The comment should be updated to reflect the actual assignment, e.g. \"Assign 4 to five\".</li>\n",
       "</ul>\n",
       "</details>"
      ],
      "text/plain": [
       "<IPython.core.display.Markdown object>"
      ]
     },
     "metadata": {},
     "output_type": "display_data"
    }
   ],
   "source": [
    "five = 4"
   ]
  },
  {
   "cell_type": "markdown",
   "id": "2c376d64-5536-4e9a-aaee-30f4681aabcb",
   "metadata": {},
   "source": [
    "Note: smaller language models might not be as capable as larger / commercial ones."
   ]
  },
  {
   "cell_type": "code",
   "execution_count": null,
   "id": "29236ed6-70f7-487c-a2d2-2feb00eac26f",
   "metadata": {},
   "outputs": [],
   "source": []
  }
 ],
 "metadata": {
  "kernelspec": {
   "display_name": "Python 3 (ipykernel)",
   "language": "python",
   "name": "python3"
  },
  "language_info": {
   "codemirror_mode": {
    "name": "ipython",
    "version": 3
   },
   "file_extension": ".py",
   "mimetype": "text/x-python",
   "name": "python",
   "nbconvert_exporter": "python",
   "pygments_lexer": "ipython3",
   "version": "3.12.11"
  }
 },
 "nbformat": 4,
 "nbformat_minor": 5
}
