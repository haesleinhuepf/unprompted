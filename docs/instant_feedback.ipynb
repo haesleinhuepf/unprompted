{
 "cells": [
  {
   "cell_type": "code",
   "execution_count": 1,
   "id": "62ec2bbc-ff08-4058-9efc-664f05ebac70",
   "metadata": {},
   "outputs": [
    {
     "data": {
      "text/html": [
       "<small>👋 Hi, this is <a href=\"https://github.com/haesleinhuepf/unprompted\" target=\"_blank\"><i>umprompted</i></a> 0.1.2 using gpt-4.1-nano under the hood. \n",
       "                         Following code cells and related output will be interpreted by AI to provide feedback and suggest improvements. \n",
       "                         If you want to keep code and/or its output private, do not use this tool or configure it to use a local LLM. Check the documentation for details.\n",
       "                         Also <i>umprompted</i> does mistakes. Treat its suggestions carefully.</small>"
      ],
      "text/plain": [
       "<IPython.core.display.HTML object>"
      ]
     },
     "metadata": {},
     "output_type": "display_data"
    }
   ],
   "source": [
    "import unprompted\n",
    "unprompted.INSTANT_FEEDBACK = True"
   ]
  },
  {
   "cell_type": "code",
   "execution_count": 2,
   "id": "84e4e1b9-22f3-4f3a-95d3-dbf755db288a",
   "metadata": {},
   "outputs": [
    {
     "name": "stdout",
     "output_type": "stream",
     "text": [
      "Hello\n",
      "world\n"
     ]
    },
    {
     "data": {
      "text/markdown": [
       "<details><summary>👍</summary>\n",
       "<ul>\n",
       "<li>The code prints \"Hello\" and \"world\" on separate lines using a newline character.</li>\n",
       "<li>The output correctly displays \"Hello\" and \"world\" on two lines.</li>\n",
       "<li>Code and output align perfectly.</li>\n",
       "<li>The code is clear and correct.</li>\n",
       "<li>ALL GOOD</li>\n",
       "</ul>\n",
       "</details>"
      ],
      "text/plain": [
       "<IPython.core.display.Markdown object>"
      ]
     },
     "metadata": {},
     "output_type": "display_data"
    }
   ],
   "source": [
    "print(\"Hello\\nworld\")"
   ]
  },
  {
   "cell_type": "code",
   "execution_count": 3,
   "id": "70dc7cfc-ccf0-4282-ab9e-cb3dbd02d191",
   "metadata": {},
   "outputs": [
    {
     "data": {
      "text/markdown": [
       "<details><summary>🤓 unprompted feedback: Replace <code>speed = distance * time</code> with <code>speed = distance / time</code> to reflect the correct physical relationship.</summary>\n",
       "<ul>\n",
       "<li>The code calculates speed as <code>distance * time</code>, which is incorrect physically; the correct formula is <code>speed = distance / time</code>.</li>\n",
       "<li>There is no output, but the calculation results in <code>speed = 3 * 5 = 15</code>.</li>\n",
       "<li>The variable names are descriptive, but the equation is wrong.</li>\n",
       "<li>ACTION REQUIRED: Replace <code>speed = distance * time</code> with <code>speed = distance / time</code> to reflect the correct physical relationship.</li>\n",
       "</ul>\n",
       "</details>"
      ],
      "text/plain": [
       "<IPython.core.display.Markdown object>"
      ]
     },
     "metadata": {},
     "output_type": "display_data"
    }
   ],
   "source": [
    "distance = 3\n",
    "time = 5\n",
    "\n",
    "speed = distance * time"
   ]
  },
  {
   "cell_type": "code",
   "execution_count": 4,
   "id": "778b4cf5-2a96-4ad0-a4f3-64218430dfba",
   "metadata": {},
   "outputs": [
    {
     "data": {
      "text/plain": [
       "\"<class 'str'>\""
      ]
     },
     "execution_count": 4,
     "metadata": {},
     "output_type": "execute_result"
    },
    {
     "data": {
      "text/markdown": [
       "<details><summary>👍</summary>\n",
       "<ul>\n",
       "<li>The code assigns a string to <code>test</code> and then converts its type to a string.</li>\n",
       "<li>The output <code><class 'str'></code> correctly indicates that <code>test</code> is a string.</li>\n",
       "<li>The code and output are consistent.</li>\n",
       "<li>No improvements needed.</li>\n",
       "<li>ALL GOOD</li>\n",
       "</ul>\n",
       "</details>"
      ],
      "text/plain": [
       "<IPython.core.display.Markdown object>"
      ]
     },
     "metadata": {},
     "output_type": "display_data"
    }
   ],
   "source": [
    "test = \"Hello world\"\n",
    "str(type(test))"
   ]
  },
  {
   "cell_type": "code",
   "execution_count": 5,
   "id": "597aed38-c863-46f3-a20b-2466782fa4ce",
   "metadata": {},
   "outputs": [
    {
     "data": {
      "image/png": "[encoded data removed]",
      "text/plain": [
       "<Figure size 640x480 with 1 Axes>"
      ]
     },
     "metadata": {},
     "output_type": "display_data"
    },
    {
     "data": {
      "text/markdown": [
       "<div align=\"right\" width=\"100%\"><details><summary>🤩</summary>\n",
       "The figure is a graph depicting the Sigmoid function. The x-axis ranges from -10 to 10, and the y-axis ranges from 0 to 1. The curve starts near 0 when x is around -10, gradually increases as x approaches 0, and then sharply rises around x = 0. After this steep increase, the curve levels off and approaches 1 as x approaches 10. The shape of the graph is characteristic of the sigmoid function, with an S-shaped (sigmoidal) curve.\n",
       "</details></div>"
      ],
      "text/plain": [
       "<IPython.core.display.Markdown object>"
      ]
     },
     "metadata": {},
     "output_type": "display_data"
    },
    {
     "data": {
      "text/markdown": [
       "<details><summary>👍</summary>\n",
       "<ul>\n",
       "<li>The code defines and plots the sigmoid function over the range -10 to 10.</li>\n",
       "<li>The output image correctly shows the sigmoid curve with appropriate axes, title, and grid.</li>\n",
       "<li>The code and output are consistent; the plot accurately visualizes the sigmoid function.</li>\n",
       "<li>The comment about \"overwriting 'x'\" is unnecessary; the code does not overwrite 'x'.</li>\n",
       "<li>The code is clear and well-structured; no improvements needed.</li>\n",
       "<li>ALL GOOD</li>\n",
       "</ul>\n",
       "</details>"
      ],
      "text/plain": [
       "<IPython.core.display.Markdown object>"
      ]
     },
     "metadata": {},
     "output_type": "display_data"
    }
   ],
   "source": [
    "import numpy as np\n",
    "import matplotlib.pyplot as plt\n",
    "\n",
    "# Define the sigmoid function\n",
    "def sigmoid(x):\n",
    "    return 1 / (1 + np.exp(-x))\n",
    "\n",
    "# Avoid overwriting 'x' and 'y' as they are not in the list of defined variables\n",
    "x_values = np.linspace(-10, 10, 100)\n",
    "\n",
    "# Calculate the sigmoid values\n",
    "y_values = sigmoid(x_values)\n",
    "\n",
    "# Plot the sigmoid function\n",
    "plt.plot(x_values, y_values)\n",
    "plt.title('Sigmoid Function')\n",
    "plt.xlabel('x')\n",
    "plt.ylabel('sigmoid(x)')\n",
    "plt.grid(True)\n",
    "plt.show()"
   ]
  },
  {
   "cell_type": "code",
   "execution_count": 6,
   "id": "6b525f75-80db-47d1-b41b-9727ce73bc4d",
   "metadata": {},
   "outputs": [
    {
     "name": "stdout",
     "output_type": "stream",
     "text": [
      "he figure is a graph depicting the Sigmoid function. The x-axis ranges from -10 to 10, and the y-axis ranges from 0 to 1. The curve starts near y=0 for x-values less than approximately -5, gradually increases as x approaches 0, and then sharply rises around x=0, approaching y=1 for x-values greater than approximately 5. The shape of the curve is S-shaped, characteristic of the sigmoid function, with a smooth transition from the lower asymptote to the upper asymptote. The graph includes grid lines for better readability"
     ]
    },
    {
     "data": {
      "text/markdown": [
       "<div align=\"right\" width=\"100%\"><details><summary>🤓</summary>\n",
       "The graph illustrates the S-shaped sigmoid function transitioning smoothly from 0 to 1 across x-values from -10 to 10.\n",
       "</details></div>"
      ],
      "text/plain": [
       "<IPython.core.display.Markdown object>"
      ]
     },
     "metadata": {},
     "output_type": "display_data"
    },
    {
     "name": "stdout",
     "output_type": "stream",
     "text": [
      "\n"
     ]
    },
    {
     "data": {
      "text/markdown": [
       "<details><summary>🤓 unprompted feedback: Add code to plot the sigmoid function over x in [-10, 10] with grid lines for better visualization.</summary>\n",
       "<ul>\n",
       "<li>The code prints a detailed description of a sigmoid function graph, but it does not generate or display the graph itself.</li>\n",
       "<li>The output matches the description, but since no plotting code is provided, the description is purely textual.</li>\n",
       "<li>To improve clarity, include the actual plotting code (e.g., using matplotlib) to visualize the sigmoid curve.</li>\n",
       "<li>Variable names and comments are missing; adding code to generate the figure would align the description with the actual visualization.</li>\n",
       "<li>ACTION REQUIRED: Add code to plot the sigmoid function over x in [-10, 10] with grid lines for better visualization.</li>\n",
       "</ul>\n",
       "</details>"
      ],
      "text/plain": [
       "<IPython.core.display.Markdown object>"
      ]
     },
     "metadata": {},
     "output_type": "display_data"
    }
   ],
   "source": [
    "print(\"he figure is a graph depicting the Sigmoid function. The x-axis ranges from -10 to 10, and the y-axis ranges from 0 to 1. The curve starts near y=0 for x-values less than approximately -5, gradually increases as x approaches 0, and then sharply rises around x=0, approaching y=1 for x-values greater than approximately 5. The shape of the curve is S-shaped, characteristic of the sigmoid function, with a smooth transition from the lower asymptote to the upper asymptote. The graph includes grid lines for better readability\")"
   ]
  },
  {
   "cell_type": "code",
   "execution_count": null,
   "id": "950aaacb-16f3-40fd-9ee4-e9b7dcffe641",
   "metadata": {},
   "outputs": [],
   "source": []
  }
 ],
 "metadata": {
  "kernelspec": {
   "display_name": "Python 3 (ipykernel)",
   "language": "python",
   "name": "python3"
  },
  "language_info": {
   "codemirror_mode": {
    "name": "ipython",
    "version": 3
   },
   "file_extension": ".py",
   "mimetype": "text/x-python",
   "name": "python",
   "nbconvert_exporter": "python",
   "pygments_lexer": "ipython3",
   "version": "3.11.11"
  }
 },
 "nbformat": 4,
 "nbformat_minor": 5
}
