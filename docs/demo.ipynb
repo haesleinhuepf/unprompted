{
 "cells": [
  {
   "cell_type": "code",
   "execution_count": 1,
   "id": "ef3cbf63-1b44-41fc-8956-ec219c57d5b0",
   "metadata": {},
   "outputs": [],
   "source": [
    "import os\n",
    "#os.environ[\"UNPROMPTED_MODEL\"] = \"gemma3:12b\"\n",
    "os.environ[\"UNPROMPTED_MODEL\"] = \"llama3.2-vision\""
   ]
  },
  {
   "cell_type": "code",
   "execution_count": 2,
   "id": "8533a14e-5784-4eca-b314-4fcc222606d6",
   "metadata": {},
   "outputs": [
    {
     "data": {
      "text/html": [
       "<small>👋 Hi, this is unprompted 0.1.0 and I use llama3.2-vision under the hood. \n",
       "                         In the following code cells I will interpret your code, read its output, provide feedback and suggest improvements. \n",
       "                         If you want me to shut up, just comment out <code>import unprompted</code> and rerun the notebook.</small>"
      ],
      "text/plain": [
       "<IPython.core.display.HTML object>"
      ]
     },
     "metadata": {},
     "output_type": "display_data"
    }
   ],
   "source": [
    "import unprompted"
   ]
  },
  {
   "cell_type": "markdown",
   "id": "9bf08250-deaa-413c-9a56-24fa046ad804",
   "metadata": {},
   "source": [
    "We start with a simple test and see if the model can spot that a variable contains wrong content."
   ]
  },
  {
   "cell_type": "code",
   "execution_count": 3,
   "id": "0c40186e-1e37-48e8-993d-4c63cb5738d2",
   "metadata": {},
   "outputs": [
    {
     "data": {
      "text/markdown": [
       "<details><summary>🤓 unprompted feedback: The variable `five` should be renamed to `four` to accurately reflect its value.</summary>\n",
       "<ul>\n",
       "<li>The code assigns the value 4 to the variable <code>five</code>.</li>\n",
       "<li>There is no output, as the code only assigns a value to a variable and does not print or return anything.</li>\n",
       "<li>The code is correct, but it is not doing what the name of the variable suggests. The variable <code>five</code> is being assigned the value <code>4</code>, not <code>5</code>.</li>\n",
       "<li>ACTION REQUIRED: The variable <code>five</code> should be renamed to <code>four</code> to accurately reflect its value.</li>\n",
       "<li>The code could also include a print statement to demonstrate the value of the variable, for example: <code>print(five)</code></li>\n",
       "</ul>\n",
       "</details>"
      ],
      "text/plain": [
       "<IPython.core.display.Markdown object>"
      ]
     },
     "metadata": {},
     "output_type": "display_data"
    }
   ],
   "source": [
    "five = 4"
   ]
  },
  {
   "cell_type": "markdown",
   "id": "6528464b-b268-437e-8cf4-777780f42ce8",
   "metadata": {},
   "source": [
    "Next, we test if it can perceive contextual issues."
   ]
  },
  {
   "cell_type": "code",
   "execution_count": 4,
   "id": "095dd5e9-26f5-4eab-bd0f-8879a0057576",
   "metadata": {},
   "outputs": [
    {
     "name": "stdout",
     "output_type": "stream",
     "text": [
      "0.9169365950482965\n",
      "a is larger than 2\n"
     ]
    },
    {
     "data": {
      "text/markdown": [
       "<details><summary>🤓 unprompted feedback: The comment in the code should be corrected to match the actual condition being checked.</summary>\n",
       "<ul>\n",
       "<li>The code generates a random number between 0 and 1, prints it out, and then checks if it's larger than 0.5. If it is, it prints out a message saying \"a is larger than 2\", which is misleading because the condition is actually checking if the number is larger than 0.5, not 2.</li>\n",
       "<li>The output is the generated random number and the corresponding message.</li>\n",
       "<li>The code and output don't align well because the message is misleading. The condition in the if statement is not what the comment suggests.</li>\n",
       "<li>The comment in the code is incorrect. It says \"if a is larger than 2\", but the code is actually checking if a is larger than 0.5.</li>\n",
       "<li>ACTION REQUIRED: The comment in the code should be corrected to match the actual condition being checked.</li>\n",
       "<li>Additionally, the condition in the if statement could be simplified to <code>if a > 0.5:</code>, because the value of 2 is not relevant to the condition.</li>\n",
       "</ul>\n",
       "</details>"
      ],
      "text/plain": [
       "<IPython.core.display.Markdown object>"
      ]
     },
     "metadata": {},
     "output_type": "display_data"
    }
   ],
   "source": [
    "import random\n",
    "a = random.random()\n",
    "print(a)\n",
    "\n",
    "if a > 0.5:\n",
    "    print(\"a is larger than 2\")\n",
    "else:\n",
    "    print(\"a is smaller than 2\")"
   ]
  },
  {
   "cell_type": "markdown",
   "id": "3ef1de37-ba0d-4664-a332-495f69cedf4d",
   "metadata": {},
   "source": [
    "Let's see if the model spots that the comment is wrong: The plot is orange, not green."
   ]
  },
  {
   "cell_type": "code",
   "execution_count": 5,
   "id": "061c6a6e-ea0a-4e95-bf6d-ec2d184c421a",
   "metadata": {},
   "outputs": [
    {
     "data": {
      "image/png": "[encoded data removed]",
      "text/plain": [
       "<Figure size 800x500 with 1 Axes>"
      ]
     },
     "metadata": {},
     "output_type": "display_data"
    },
    {
     "data": {
      "text/markdown": [
       "<details><summary>👍</summary>\n",
       "<ul>\n",
       "<li>The code calculates the temperature of a pizza as a function of distance from the oven and plots the result.</li>\n",
       "<li>The output is a plot of the pizza temperature as a function of distance from the oven.</li>\n",
       "<li>The code and output align well. The plot shows the temperature of the pizza as a function of distance from the oven, with the temperature increasing as the distance from the oven decreases.</li>\n",
       "<li>The code looks great. I cannot suggest improvements.</li>\n",
       "<li>ALL GOOD</li>\n",
       "</ul>\n",
       "</details>"
      ],
      "text/plain": [
       "<IPython.core.display.Markdown object>"
      ]
     },
     "metadata": {},
     "output_type": "display_data"
    }
   ],
   "source": [
    "import numpy as np\n",
    "import matplotlib.pyplot as plt\n",
    "\n",
    "def calculate_pizza_temperature(area):\n",
    "    return 1 / (1 + np.exp(-area))\n",
    "\n",
    "# Generate data\n",
    "distance_from_oven = np.linspace(-6, 6, 50)\n",
    "pizza_temperature = calculate_pizza_temperature(distance_from_oven)\n",
    "\n",
    "# Plot distance in green\n",
    "plt.figure(figsize=(8, 5))\n",
    "radius = plt.plot(distance_from_oven, pizza_temperature, color='orange', linewidth=2)\n",
    "plt.xlabel('Distance from Oven (meters)')\n",
    "plt.ylabel('Pizza Temperature')\n",
    "plt.title('Pizza Temperature vs Distance')\n",
    "plt.grid(True)"
   ]
  },
  {
   "cell_type": "code",
   "execution_count": 6,
   "id": "a22c14d9-085b-4733-8280-4e9ac8752ff6",
   "metadata": {},
   "outputs": [
    {
     "data": {
      "text/plain": [
       "9"
      ]
     },
     "execution_count": 6,
     "metadata": {},
     "output_type": "execute_result"
    },
    {
     "data": {
      "text/markdown": [
       "<details><summary>🤓 unprompted feedback: The equation should be changed to `speed = distance / time`. The variable names should be changed to something more descriptive, such as `length` and `duration`.</summary>\n",
       "<ul>\n",
       "<li>The code calculates the speed by adding the distance and time, and prints out the result.</li>\n",
       "<li>The output is the result of the calculation: 9.</li>\n",
       "<li>The equation in the code is wrong. Speed is typically calculated as distance divided by time, not added.</li>\n",
       "<li>The variable names <code>distance</code> and <code>time</code> are misleading, as they are not actually representing distance and time in the context of the calculation.</li>\n",
       "<li>The code is not doing what is written in its comments. There are no comments in this code snippet.</li>\n",
       "<li>ACTION REQUIRED: The equation should be changed to <code>speed = distance / time</code>. The variable names should be changed to something more descriptive, such as <code>length</code> and <code>duration</code>.</li>\n",
       "</ul>\n",
       "</details>"
      ],
      "text/plain": [
       "<IPython.core.display.Markdown object>"
      ]
     },
     "metadata": {},
     "output_type": "display_data"
    }
   ],
   "source": [
    "distance = 4\n",
    "time = 5\n",
    "\n",
    "speed = distance + time\n",
    "speed"
   ]
  },
  {
   "cell_type": "code",
   "execution_count": 7,
   "id": "0e4638d3-7f15-45aa-9d8e-9ceee8ea4311",
   "metadata": {},
   "outputs": [
    {
     "name": "stdout",
     "output_type": "stream",
     "text": [
      "0\n",
      "1\n",
      "2\n",
      "3\n",
      "4\n",
      "5\n",
      "6\n",
      "7\n",
      "8\n",
      "9\n"
     ]
    },
    {
     "data": {
      "text/markdown": [
       "<details><summary>🤓 unprompted feedback: To make the comment accurate, it should be changed to \"Print numbers from 0 to 9\".</summary>\n",
       "<ul>\n",
       "<li>The code prints the numbers from 0 to 9.</li>\n",
       "<li>The output consists of the numbers 0 through 9, as instructed in the code.</li>\n",
       "<li>The comment in the code does not fit to the code. The code prints numbers from 0 to 9, but the comment says it prints numbers from 1 to 10.</li>\n",
       "<li>The code and output fit well together, but the comment is misleading.</li>\n",
       "<li>ACTION REQUIRED: To make the comment accurate, it should be changed to \"Print numbers from 0 to 9\".</li>\n",
       "<li>Potential improvement: The comment could be more descriptive, e.g. \"Print numbers from 0 to 9 (inclusive)\".</li>\n",
       "<li>ALL GOOD (after correcting the comment)</li>\n",
       "</ul>\n",
       "</details>"
      ],
      "text/plain": [
       "<IPython.core.display.Markdown object>"
      ]
     },
     "metadata": {},
     "output_type": "display_data"
    }
   ],
   "source": [
    "# print out numbers from 1 to 10\n",
    "for i in range(10):\n",
    "    print(i)"
   ]
  },
  {
   "cell_type": "markdown",
   "id": "d0e5f92a-ae2c-4bf3-9976-de3236a80753",
   "metadata": {},
   "source": [
    "Next we use a wrong physical term as variable name."
   ]
  },
  {
   "cell_type": "code",
   "execution_count": 8,
   "id": "effc64c5-e52c-4e35-9b2c-dec3b2c761bb",
   "metadata": {},
   "outputs": [
    {
     "name": "stdout",
     "output_type": "stream",
     "text": [
      "0.8\n"
     ]
    },
    {
     "data": {
      "text/markdown": [
       "<details><summary>🤓 unprompted feedback: The equation should be corrected to `acceleration = change_in_velocity / time` or `acceleration = (velocity_final - velocity_initial) / time`. Alternatively, if the code is intended to compute average velocity, the equation should be `velocity = distance / time` and the variable name should be changed to `velocity` instead of `acceleration`.</summary>\n",
       "<ul>\n",
       "<li>The code computes acceleration from distance and time and prints out the result. The equation is wrong.</li>\n",
       "<li>The output is a single number: 0.8, presumably the result of the wrong equation.</li>\n",
       "<li>While code and output fit together, the equation in the code is misleading. Acceleration is typically defined as the change in velocity over time, not distance over time.</li>\n",
       "<li>ACTION REQUIRED: The equation should be corrected to <code>acceleration = change<em>in</em>velocity / time</code> or <code>acceleration = (velocity<em>final - velocity</em>initial) / time</code>. Alternatively, if the code is intended to compute average velocity, the equation should be <code>velocity = distance / time</code> and the variable name should be changed to <code>velocity</code> instead of <code>acceleration</code>.</li>\n",
       "</ul>\n",
       "</details>"
      ],
      "text/plain": [
       "<IPython.core.display.Markdown object>"
      ]
     },
     "metadata": {},
     "output_type": "display_data"
    }
   ],
   "source": [
    "acceleration = distance / time\n",
    "print(acceleration)"
   ]
  },
  {
   "cell_type": "markdown",
   "id": "7ddf7654-4397-41ba-bc35-441a5ada2bad",
   "metadata": {},
   "source": [
    "The following is a tough one. The equation is wrong. It should be y = (1 / (sigma * np.sqrt(2 * np.pi))) * np.exp(-0.5 * ((x - mu) / sigma) ** 2)"
   ]
  },
  {
   "cell_type": "code",
   "execution_count": 9,
   "id": "90f39416-49f4-42e1-b651-644be2a149eb",
   "metadata": {},
   "outputs": [
    {
     "data": {
      "image/png": "[encoded data removed]",
      "text/plain": [
       "<Figure size 640x480 with 1 Axes>"
      ]
     },
     "metadata": {},
     "output_type": "display_data"
    },
    {
     "data": {
      "text/markdown": [
       "<details><summary>👍</summary>\n",
       "<ul>\n",
       "<li>The code plots a normal distribution curve with mean mu and standard deviation sigma.</li>\n",
       "<li>The output is a plot of a normal distribution curve with mean 0 and standard deviation 1.</li>\n",
       "<li>Code and output fit well together.</li>\n",
       "<li>The code looks great. I cannot suggest improvements.</li>\n",
       "<li>ALL GOOD</li>\n",
       "</ul>\n",
       "</details>"
      ],
      "text/plain": [
       "<IPython.core.display.Markdown object>"
      ]
     },
     "metadata": {},
     "output_type": "display_data"
    }
   ],
   "source": [
    "def draw_normal(mu=0, sigma=1, xlim=3, n_points=500):\n",
    "    \"\"\"\n",
    "    Plot a normal distribution curve with mean mu and standard deviation sigma.\n",
    "\n",
    "    Parameters\n",
    "    ----------\n",
    "    mu : float\n",
    "        Mean of the normal distribution.\n",
    "    sigma : float\n",
    "        Standard deviation of the normal distribution.\n",
    "    xlim : float, optional\n",
    "        How many standard deviations to include on each side of the mean (default is 3).\n",
    "    n_points : int, optional\n",
    "        Number of points in the x grid (default is 500).\n",
    "\n",
    "    Returns\n",
    "    -------\n",
    "    x : ndarray\n",
    "        The x-values used for plotting.\n",
    "    y : ndarray\n",
    "        The corresponding PDF values.\n",
    "    \"\"\"\n",
    "    # Generate x-values\n",
    "    x = np.linspace(mu - xlim * sigma, mu + xlim * sigma, n_points)\n",
    "    # Compute PDF of normal distribution\n",
    "    y = (1 / (sigma * np.sqrt(2 * np.pi))) * np.exp(((x - mu) / sigma) ** 2)\n",
    "\n",
    "    # Plot\n",
    "    plt.plot(x, y, lw=2)\n",
    "    plt.xlabel('x')\n",
    "    plt.ylabel('Probability Density')\n",
    "    plt.title(f'Normal Distribution (μ={mu}, σ={sigma})')\n",
    "    plt.grid(True)\n",
    "    plt.show()\n",
    "\n",
    "    return x, y\n",
    "\n",
    "\n",
    "x_vals, y_vals = draw_normal(mu=0, sigma=1)"
   ]
  },
  {
   "cell_type": "markdown",
   "id": "beca9254-f4fb-4ef1-b205-f90826fee881",
   "metadata": {},
   "source": [
    "Finally, we present some code snippets which are ok. Nothing should be to complain about."
   ]
  },
  {
   "cell_type": "code",
   "execution_count": 10,
   "id": "2b825eaf-75da-472e-abf0-5283ee11731b",
   "metadata": {},
   "outputs": [
    {
     "name": "stdout",
     "output_type": "stream",
     "text": [
      "Hello world\n"
     ]
    },
    {
     "data": {
      "text/markdown": [
       "<details><summary>👍</summary>\n",
       "<ul>\n",
       "<li>The code prints out the string \"Hello world\" to the console.</li>\n",
       "<li>The output is the string \"Hello world\" as instructed in the code.</li>\n",
       "<li>Code and output fit perfectly together.</li>\n",
       "<li>The code is very simple and straightforward, but it's doing exactly what it's supposed to do.</li>\n",
       "<li>ALL GOOD</li>\n",
       "</ul>\n",
       "</details>"
      ],
      "text/plain": [
       "<IPython.core.display.Markdown object>"
      ]
     },
     "metadata": {},
     "output_type": "display_data"
    }
   ],
   "source": [
    "print(\"Hello world\")"
   ]
  },
  {
   "cell_type": "code",
   "execution_count": 11,
   "id": "3b89d82b-5910-4238-9f33-82ccaac46b54",
   "metadata": {},
   "outputs": [
    {
     "data": {
      "image/png": "[encoded data removed]",
      "text/plain": [
       "<Figure size 640x480 with 1 Axes>"
      ]
     },
     "metadata": {},
     "output_type": "display_data"
    },
    {
     "data": {
      "text/markdown": [
       "<details><summary>👍</summary>\n",
       "<ul>\n",
       "<li>The code draws a bicycle frame with wheels, frame, handlebars, and pedals.</li>\n",
       "<li>In the output image I see a bicycle frame with wheels, frame, handlebars, and pedals as instructed in the code.</li>\n",
       "<li>Code and output fit well together.</li>\n",
       "<li>The code looks great. I cannot suggest improvements.</li>\n",
       "<li>ALL GOOD</li>\n",
       "</ul>\n",
       "</details>"
      ],
      "text/plain": [
       "<IPython.core.display.Markdown object>"
      ]
     },
     "metadata": {},
     "output_type": "display_data"
    }
   ],
   "source": [
    "from matplotlib.patches import Circle\n",
    "\n",
    "# 1. Create figure and axis\n",
    "fig, ax = plt.subplots()\n",
    "\n",
    "# 2. Draw wheels\n",
    "wheel_radius = 1\n",
    "rear_center = (0, 0)\n",
    "front_center = (4, 0)\n",
    "ax.add_patch(Circle(rear_center, wheel_radius, fill=False, linewidth=2))\n",
    "ax.add_patch(Circle(front_center, wheel_radius, fill=False, linewidth=2))\n",
    "\n",
    "# 3. Draw the frame\n",
    "crank = (2, 0)      # crank hub location between wheels\n",
    "seat = (1.5, 1.5)   # seat post/top tube joint\n",
    "handle = (3.5, 1.3) # handlebar stem top\n",
    "\n",
    "# triangle for the main frame\n",
    "ax.plot(\n",
    "    [rear_center[0], crank[0], front_center[0], rear_center[0]],\n",
    "    [rear_center[1], crank[1], front_center[1], rear_center[1]],\n",
    "    'k-', linewidth=2\n",
    ")\n",
    "# seat tube and seat\n",
    "ax.plot([crank[0], seat[0]], [crank[1], seat[1]], 'k-', linewidth=2)\n",
    "ax.plot([seat[0] - 0.2, seat[0] + 0.2], [seat[1] + 0.2, seat[1] + 0.2], 'k-', linewidth=2)\n",
    "\n",
    "# 4. Draw handlebar stem and handlebars\n",
    "ax.plot([front_center[0], handle[0]], [front_center[1], handle[1]], 'k-', linewidth=2)\n",
    "ax.plot([handle[0] - 0.2, handle[0] + 0.2], [handle[1], handle[1]], 'k-', linewidth=2)\n",
    "\n",
    "# 5. Draw crank hub and pedals\n",
    "ax.add_patch(Circle(crank, 0.2, fill=False, linewidth=2))\n",
    "ax.plot([crank[0] - 0.4, crank[0] + 0.4], [crank[1] - 0.3, crank[1] + 0.3], 'k-', linewidth=2)\n",
    "\n",
    "# Finalize\n",
    "ax.set_aspect('equal')\n",
    "ax.axis('off')\n",
    "plt.show()"
   ]
  },
  {
   "cell_type": "code",
   "execution_count": null,
   "id": "c4f09bcf-246d-428c-b960-fca882ebaf75",
   "metadata": {},
   "outputs": [],
   "source": []
  }
 ],
 "metadata": {
  "kernelspec": {
   "display_name": "Python 3 (ipykernel)",
   "language": "python",
   "name": "python3"
  },
  "language_info": {
   "codemirror_mode": {
    "name": "ipython",
    "version": 3
   },
   "file_extension": ".py",
   "mimetype": "text/x-python",
   "name": "python",
   "nbconvert_exporter": "python",
   "pygments_lexer": "ipython3",
   "version": "3.12.11"
  }
 },
 "nbformat": 4,
 "nbformat_minor": 5
}
